{
 "cells": [
  {
   "cell_type": "code",
   "execution_count": null,
   "metadata": {},
   "outputs": [],
   "source": [
    "import pandas as pd\n",
    "import numpy as np\n",
    "%matplotlib inline\n",
    "import matplotlib.pyplot as plt\n",
    "from sklearn.model_selection import train_test_split\n",
    "import scipy . linalg as lng # linear algebra from scipy library\n",
    "from scipy . spatial import distance # load distance function\n",
    "from sklearn import preprocessing as preproc # load preprocessing function\n",
    "from sklearn.impute import IterativeImputer\n",
    "from sklearn.datasets import make_regression\n",
    "from sklearn.preprocessing import StandardScaler\n",
    "\n",
    "# seaborn can be used to \"prettify\" default matplotlib plots by importing and setting as default\n",
    "import seaborn as sns\n",
    "sns.set() # Set searborn as default"
   ]
  },
  {
   "cell_type": "code",
   "execution_count": 2,
   "metadata": {},
   "outputs": [
    {
     "name": "stdout",
     "output_type": "stream",
     "text": [
      "Missing values in X: 1489\n"
     ]
    }
   ],
   "source": [
    "data = pd.read_csv('case1Data.csv')\n",
    "y = data['y']\n",
    "X = data.drop('y', axis=1)\n",
    "# Get number of observations (n) and number of independent variables (p)\n",
    "[n, p] = np.shape(X)\n",
    "\n",
    "print('Missing values in X:', X.isnull().sum().sum())"
   ]
  },
  {
   "cell_type": "code",
   "execution_count": 3,
   "metadata": {},
   "outputs": [
    {
     "name": "stdout",
     "output_type": "stream",
     "text": [
      "Zero variance columns: [96]\n",
      "Columns dropped: Index(['C_02'], dtype='object')\n"
     ]
    }
   ],
   "source": [
    "# impute missing values with mean\n",
    "X_imputed_mean = X.fillna(X.mean())\n",
    "\n",
    "# check if there are any columns with zero variance\n",
    "variance = np.var(X_imputed_mean, axis=0)\n",
    "zero_var_cols = np.where(variance == 0)[0]\n",
    "print('Zero variance columns:', zero_var_cols)\n",
    "\n",
    "# drop columns with zero variance\n",
    "X_imputed_mean = X_imputed_mean.drop(X_imputed_mean.columns[zero_var_cols], axis=1)\n",
    "print('Columns dropped:', X.columns[zero_var_cols])\n",
    "\n",
    "# devide the data into training and test sets\n",
    "X_train, X_test, y_train, y_test = train_test_split(X_imputed_mean, y, test_size=0.2, random_state=42)\n",
    "\n",
    "# standardize the data\n",
    "scaler = StandardScaler()\n",
    "X_train_standardardized = scaler.fit_transform(X_train)\n",
    "X_test_standardardized = scaler.transform(X_test)\n",
    "\n",
    "X_standardized = scaler.fit_transform(X_imputed_mean)\n"
   ]
  },
  {
   "cell_type": "code",
   "execution_count": 4,
   "metadata": {},
   "outputs": [],
   "source": [
    "def ols_solver(X, y):\n",
    "    betas, res, rnk, s = lng.lstsq(X, y)\n",
    "    \n",
    "    return betas, res, rnk, s\n",
    "\n",
    "def ols_analytical(X, y):\n",
    "    inner_product = np.linalg.inv(X.T @ X)\n",
    "    outer_product = X.T @ y\n",
    "    betas = inner_product @ outer_product\n",
    "    return betas"
   ]
  },
  {
   "cell_type": "markdown",
   "metadata": {},
   "source": [
    "# OLS on all data"
   ]
  },
  {
   "cell_type": "code",
   "execution_count": 5,
   "metadata": {},
   "outputs": [
    {
     "name": "stdout",
     "output_type": "stream",
     "text": [
      "rmse from lstsq: []\n",
      "rmse from solver: 2.9075161306514707e-12\n",
      "rmse from nummerical: 2.149390803816044e-10\n",
      "RSS: 4.6198808275289795e-18\n",
      "TSS: 520031.4508322642\n",
      "R2: 100.0\n"
     ]
    }
   ],
   "source": [
    "# Include offset / intercept\n",
    "off = np.ones(n) \n",
    "M = np.c_[off, X_standardized]\n",
    "\n",
    "# linear solver\n",
    "beta_solv, res_solv, rnk, s = ols_solver(M, y)\n",
    "yhat_solv = M @ beta_solv\n",
    "\n",
    "# analytical solution\n",
    "beta_ana = ols_analytical(M,y)\n",
    "yhat_ana = M @ beta_ana\n",
    "\n",
    "# Manual calculation of residuals for solver\n",
    "res_solv_man = (y - yhat_solv) ** 2    \n",
    "mse_solv_man = np.mean(res_solv_man)\n",
    "\n",
    "# Manual calculation of residuals for analytical\n",
    "res_ana = (y - yhat_ana) ** 2    \n",
    "mse_ana = np.mean(res_ana)\n",
    "\n",
    "print(f'rmse from lstsq: {np.sqrt(res_solv/len(y))}') # lng.lstsq returns sum of squared residuals, so we divide by num of obs to get mean\n",
    "print(f'rmse from solver: {np.sqrt(mse_solv_man)}')\n",
    "print(f'rmse from nummerical: {np.sqrt(mse_ana)}')\n",
    "\n",
    "# analytical version\n",
    "rss = np.sum(res_ana)\n",
    "print(f'RSS: {rss}')\n",
    "tss = np.sum((y - np.mean(y))** 2)\n",
    "print(f'TSS: {tss}')\n",
    "r2 = (1 - rss / tss) * 100\n",
    "print(f'R2: {r2}')"
   ]
  },
  {
   "cell_type": "markdown",
   "metadata": {},
   "source": [
    "# OLS on train / test set"
   ]
  },
  {
   "cell_type": "code",
   "execution_count": 6,
   "metadata": {},
   "outputs": [],
   "source": [
    "# Include offset / intercept\n",
    "off = np.ones(80) #n\n",
    "M = np.c_[off, X_train_standardardized]\n",
    "\n",
    "# linear solver\n",
    "beta_solv, res_solv, rnk, s = ols_solver(M, y_train)\n",
    "yhat_solv = M @ beta_solv\n",
    "\n",
    "# analytical solution\n",
    "beta_ana = ols_analytical(M,y_train)\n",
    "yhat_ana = M @ beta_ana\n"
   ]
  },
  {
   "cell_type": "code",
   "execution_count": 7,
   "metadata": {},
   "outputs": [
    {
     "name": "stdout",
     "output_type": "stream",
     "text": [
      "rmse from lstsq: []\n",
      "rmse from solver: 3.964516476617076e-13\n",
      "rmse from nummerical: 1042.4911571807145\n"
     ]
    }
   ],
   "source": [
    "# Manual calculation of residuals for solver\n",
    "res_solv_man = (y_train - yhat_solv) ** 2    \n",
    "mse_solv_man = np.mean(res_solv_man)\n",
    "\n",
    "# Manual calculation of residuals for analytical\n",
    "res_ana = (y_train - yhat_ana) ** 2    \n",
    "mse_ana = np.mean(res_ana)\n",
    "\n",
    "print(f'rmse from lstsq: {np.sqrt(res_solv/len(y_train))}') # lng.lstsq returns sum of squared residuals, so we divide by num of obs to get mean\n",
    "print(f'rmse from solver: {np.sqrt(mse_solv_man)}')\n",
    "print(f'rmse from nummerical: {np.sqrt(mse_ana)}')"
   ]
  },
  {
   "cell_type": "code",
   "execution_count": 8,
   "metadata": {},
   "outputs": [
    {
     "name": "stdout",
     "output_type": "stream",
     "text": [
      "RSS: 86943025.02399883\n",
      "TSS: 386897.35805355624\n",
      "R2: -22371.858030098967\n"
     ]
    }
   ],
   "source": [
    "# analytical version\n",
    "rss = np.sum(res_ana)\n",
    "print(f'RSS: {rss}')\n",
    "tss = np.sum((y_train - np.mean(y_train))** 2)\n",
    "print(f'TSS: {tss}')\n",
    "r2 = (1 - rss / tss) * 100\n",
    "print(f'R2: {r2}')"
   ]
  },
  {
   "cell_type": "code",
   "execution_count": 9,
   "metadata": {},
   "outputs": [
    {
     "name": "stdout",
     "output_type": "stream",
     "text": [
      "rmse on test set solver: 34.596118243944055\n",
      "rmse on test set analytical: 3430.5681400867893\n"
     ]
    }
   ],
   "source": [
    "# calculate RSME on test set\n",
    "off_test = np.ones(20) #n\n",
    "M_test = np.c_[off_test, X_test_standardardized]\n",
    "yhat_test = M_test @ beta_solv\n",
    "res_test = (y_test - yhat_test) ** 2\n",
    "mse_test = np.mean(res_test)\n",
    "print(f'rmse on test set solver: {np.sqrt(mse_test)}')\n",
    "\n",
    "# analytical version\n",
    "yhat_test_ana = M_test @ beta_ana\n",
    "res_test_ana = (y_test - yhat_test_ana) ** 2\n",
    "mse_test_ana = np.mean(res_test_ana)\n",
    "print(f'rmse on test set analytical: {np.sqrt(mse_test_ana)}')"
   ]
  },
  {
   "cell_type": "markdown",
   "metadata": {},
   "source": [
    "# OLS on principal components"
   ]
  },
  {
   "cell_type": "code",
   "execution_count": 10,
   "metadata": {},
   "outputs": [],
   "source": [
    "pca_data = pd.read_csv('pca_data.csv')\n",
    "X_pca = pca_data.drop('y', axis=1)\n",
    "\n",
    "# take the first 40 principal components\n",
    "X_40 = X_pca.iloc[:, :40]\n",
    "\n",
    "[n, p] = np.shape(X_40)"
   ]
  },
  {
   "cell_type": "code",
   "execution_count": 11,
   "metadata": {},
   "outputs": [
    {
     "name": "stdout",
     "output_type": "stream",
     "text": [
      "rmse from lstsq: 22.454094689574767\n",
      "rmse from solver: 22.45409468957477\n",
      "rmse from nummerical: 22.454094689574767\n",
      "RSS: 50418.63683283898\n",
      "TSS: 520031.4508322642\n",
      "R2: 90.30469469641722\n"
     ]
    }
   ],
   "source": [
    "# Include offset / intercept\n",
    "off = np.ones(n) \n",
    "M = np.c_[off, X_40]\n",
    "\n",
    "# linear solver\n",
    "beta_solv, res_solv, rnk, s = ols_solver(M, y)\n",
    "yhat_solv = M @ beta_solv\n",
    "\n",
    "# analytical solution\n",
    "beta_ana = ols_analytical(M,y)\n",
    "yhat_ana = M @ beta_ana\n",
    "\n",
    "# Manual calculation of residuals for solver\n",
    "res_solv_man = (y - yhat_solv) ** 2    \n",
    "mse_solv_man = np.mean(res_solv_man)\n",
    "\n",
    "# Manual calculation of residuals for analytical\n",
    "res_ana = (y - yhat_ana) ** 2    \n",
    "mse_ana = np.mean(res_ana)\n",
    "\n",
    "print(f'rmse from lstsq: {np.sqrt(res_solv/len(y))}') # lng.lstsq returns sum of squared residuals, so we divide by num of obs to get mean\n",
    "print(f'rmse from solver: {np.sqrt(mse_solv_man)}')\n",
    "print(f'rmse from nummerical: {np.sqrt(mse_ana)}')\n",
    "\n",
    "# analytical version\n",
    "rss = np.sum(res_ana)\n",
    "print(f'RSS: {rss}')\n",
    "tss = np.sum((y - np.mean(y))** 2)\n",
    "print(f'TSS: {tss}')\n",
    "r2 = (1 - rss / tss) * 100\n",
    "print(f'R2: {r2}')"
   ]
  }
 ],
 "metadata": {
  "kernelspec": {
   "display_name": "Python 3",
   "language": "python",
   "name": "python3"
  },
  "language_info": {
   "codemirror_mode": {
    "name": "ipython",
    "version": 3
   },
   "file_extension": ".py",
   "mimetype": "text/x-python",
   "name": "python",
   "nbconvert_exporter": "python",
   "pygments_lexer": "ipython3",
   "version": "3.10.10"
  }
 },
 "nbformat": 4,
 "nbformat_minor": 2
}
