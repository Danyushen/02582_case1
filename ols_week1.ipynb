{
 "cells": [
  {
   "cell_type": "code",
   "execution_count": 1,
   "metadata": {},
   "outputs": [],
   "source": [
    "import pandas as pd\n",
    "import numpy as np\n",
    "%matplotlib inline\n",
    "import matplotlib.pyplot as plt\n",
    "from sklearn.linear_model import LinearRegression\n",
    "from sklearn.model_selection import train_test_split\n",
    "import scipy . linalg as lng # linear algebra from scipy library\n",
    "from scipy . spatial import distance # load distance function\n",
    "from sklearn import preprocessing as preproc # load preprocessing function\n",
    "import math\n",
    "from sklearn.experimental import enable_iterative_imputer\n",
    "from sklearn.impute import IterativeImputer\n",
    "from sklearn.datasets import make_regression\n",
    "\n",
    "# seaborn can be used to \"prettify\" default matplotlib plots by importing and setting as default\n",
    "import seaborn as sns\n",
    "sns.set() # Set searborn as default"
   ]
  },
  {
   "cell_type": "code",
   "execution_count": 2,
   "metadata": {},
   "outputs": [
    {
     "name": "stdout",
     "output_type": "stream",
     "text": [
      "Missing values in X: 1489\n"
     ]
    }
   ],
   "source": [
    "data = pd.read_csv('case1Data.csv')\n",
    "y = data['y']\n",
    "X = data.drop('y', axis=1)\n",
    "# Get number of observations (n) and number of independent variables (p)\n",
    "[n, p] = np.shape(X)\n",
    "\n",
    "print('Missing values in X:', X.isnull().sum().sum())"
   ]
  },
  {
   "cell_type": "code",
   "execution_count": 3,
   "metadata": {},
   "outputs": [],
   "source": [
    "# impute missing values with mean\n",
    "X_imputed_mean = X.fillna(X.mean())\n",
    "#X_imputed_mean = X.fillna(X.median())\n",
    "\n",
    "\n",
    "#imputer = IterativeImputer(max_iter=10, random_state=0)\n",
    "#X_imputed_mean = imputer.fit_transform(X)\n",
    "#print(\"\\nImputed Data:\\n\", X_imputed[:5])\n"
   ]
  },
  {
   "cell_type": "code",
   "execution_count": 4,
   "metadata": {},
   "outputs": [],
   "source": [
    "def ols_solver(X, y):\n",
    "    betas, res, rnk, s = lng.lstsq(X, y)\n",
    "    \n",
    "    return betas, res, rnk, s\n",
    "\n",
    "def ols_analytical(X, y):\n",
    "    inner_product = np.linalg.inv(X.T @ X)\n",
    "    outer_product = X.T @ y\n",
    "    betas = inner_product @ outer_product\n",
    "    return betas"
   ]
  },
  {
   "cell_type": "code",
   "execution_count": 5,
   "metadata": {},
   "outputs": [],
   "source": [
    "# linear solver\n",
    "beta_solv, res, rnk, s = ols_solver(X_imputed_mean, y)\n",
    "yhat_solv = X_imputed_mean @ beta_solv"
   ]
  },
  {
   "cell_type": "code",
   "execution_count": 6,
   "metadata": {},
   "outputs": [],
   "source": [
    "# numerical solution\n",
    "beta_ana = ols_analytical(X_imputed_mean,y)\n",
    "yhat_num = X_imputed_mean @ beta_ana"
   ]
  },
  {
   "cell_type": "code",
   "execution_count": 7,
   "metadata": {},
   "outputs": [],
   "source": [
    "# Include offset / intercept\n",
    "off = np.ones(n) \n",
    "M = np.c_[off, X_imputed_mean]\n",
    "\n",
    "# linear solver\n",
    "beta_solv, res_solv, rnk, s = ols_solver(M, y)\n",
    "yhat_solv = M @ beta_solv\n",
    "\n",
    "# analytical solution\n",
    "beta_ana = ols_analytical(M,y)\n",
    "yhat_ana = M @ beta_ana\n"
   ]
  },
  {
   "cell_type": "code",
   "execution_count": 8,
   "metadata": {},
   "outputs": [
    {
     "name": "stdout",
     "output_type": "stream",
     "text": [
      "mse from lstsq: []\n",
      "mse from solver: 1.559893301548539e-24\n",
      "mse from nummerical: 913344.1361461278\n"
     ]
    }
   ],
   "source": [
    "# Manual calculation of residuals for solver\n",
    "res_solv_man = (y - yhat_solv) ** 2    \n",
    "mse_solv_man = np.mean(res_solv_man)\n",
    "\n",
    "# Manual calculation of residuals for analytical\n",
    "res_ana = (y - yhat_ana) ** 2    \n",
    "mse_ana = np.mean(res_ana)\n",
    "\n",
    "print(f'mse from lstsq: {res_solv/len(y)}') # lng.lstsq returns sum of squared residuals, so we divide by num of obs to get mean\n",
    "print(f'mse from solver: {mse_solv_man}')\n",
    "print(f'mse from nummerical: {mse_ana}')"
   ]
  },
  {
   "cell_type": "markdown",
   "metadata": {},
   "source": [
    "mean:\n",
    "mse from lstsq: []\n",
    "mse from solver: 1.559893301548539e-24\n",
    "mse from nummerical: 913344.1361461278\n",
    "\n",
    "median:\n",
    "mse from lstsq: []\n",
    "mse from solver: 4.275424157906148e-25\n",
    "mse from nummerical: 275387.5226166055\n",
    "\n",
    "iterative:\n",
    "mse from lstsq: []\n",
    "mse from solver: 2.933700066389306e-20\n",
    "mse from nummerical: 119649.32292734919\n",
    "\n"
   ]
  },
  {
   "cell_type": "code",
   "execution_count": 9,
   "metadata": {},
   "outputs": [
    {
     "name": "stdout",
     "output_type": "stream",
     "text": [
      "RSS: 91334413.61461279\n",
      "TSS: 520031.4508322642\n",
      "R2: -17463.24804364047\n"
     ]
    }
   ],
   "source": [
    "# analytical version\n",
    "rss = np.sum(res_ana)\n",
    "print(f'RSS: {rss}')\n",
    "tss = np.sum((y - np.mean(y))** 2)\n",
    "print(f'TSS: {tss}')\n",
    "r2 = (1 - rss / tss) * 100\n",
    "print(f'R2: {r2}')"
   ]
  }
 ],
 "metadata": {
  "kernelspec": {
   "display_name": "Python 3",
   "language": "python",
   "name": "python3"
  },
  "language_info": {
   "codemirror_mode": {
    "name": "ipython",
    "version": 3
   },
   "file_extension": ".py",
   "mimetype": "text/x-python",
   "name": "python",
   "nbconvert_exporter": "python",
   "pygments_lexer": "ipython3",
   "version": "3.10.10"
  }
 },
 "nbformat": 4,
 "nbformat_minor": 2
}
